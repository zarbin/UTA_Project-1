{
 "cells": [
  {
   "cell_type": "code",
   "execution_count": 1,
   "metadata": {},
   "outputs": [],
   "source": [
    "import os\n",
    "import csv\n",
    "import pandas as pd\n",
    "import numpy as np \n",
    "import matplotlib.pyplot as plt\n",
    "from datetime import datetime\n",
    "import scipy.stats as st\n",
    "import glob"
   ]
  },
  {
   "cell_type": "code",
   "execution_count": 2,
   "metadata": {},
   "outputs": [],
   "source": [
    "# use glob to get all the csv files \n",
    "# in the folder\n",
    "path = os.getcwd()\n",
    "csv_files = glob.glob(os.path.join(path, \"resources/*.csv\"))"
   ]
  },
  {
   "cell_type": "code",
   "execution_count": 34,
   "metadata": {},
   "outputs": [
    {
     "name": "stdout",
     "output_type": "stream",
     "text": [
      "Location: e:\\Thins\\School\\UTAustin Bootcamp\\UTA_Project-1\\resources\\Fedfunds.csv\n",
      "Location: e:\\Thins\\School\\UTAustin Bootcamp\\UTA_Project-1\\resources\\Mtg15.csv\n",
      "Location: e:\\Thins\\School\\UTAustin Bootcamp\\UTA_Project-1\\resources\\Mtg30.csv\n",
      "Location: e:\\Thins\\School\\UTAustin Bootcamp\\UTA_Project-1\\resources\\MtgFHA.csv\n",
      "Location: e:\\Thins\\School\\UTAustin Bootcamp\\UTA_Project-1\\resources\\MtgJumbo.csv\n"
     ]
    }
   ],
   "source": [
    "dict_of_df = {} # initialize empty dictionary\n",
    "\n",
    "# loop over the list of csv files\n",
    "for f in csv_files:\n",
    "\n",
    "    filename = f.split(\"\\\\\")[-1]\n",
    "\n",
    "    if (filename[0:3] == 'Fed'):\n",
    "        print('Location:', f)\n",
    "        dict_of_df[\"df_{}\".format(filename)] = pd.read_csv(f)\n",
    "    elif (filename[0:3] == 'Mtg'):\n",
    "        print('Location:', f)\n",
    "        dict_of_df[\"df_{}\".format(filename)] = pd.read_csv(f)\n",
    "\n",
    "#assign loaded CSVs to dataframes\n",
    "fedfunds = dict_of_df['df_Fedfunds.csv']\n",
    "mtg15 = dict_of_df['df_Mtg15.csv']\n",
    "mtg30 = dict_of_df['df_Mtg30.csv']\n",
    "mtgfha = dict_of_df['df_MtgFHA.csv']\n",
    "mtgjumbo = dict_of_df['df_MtgJumbo.csv']\n"
   ]
  },
  {
   "cell_type": "code",
   "execution_count": 88,
   "metadata": {},
   "outputs": [],
   "source": [
    "Fed = Fed\n",
    "Fed['DATE'] = pd.to_datetime(Fed['DATE'])\n",
    "Fed = Fed.groupby([Fed['DATE'].dt.strftime('%Y-%m')])['FED RATES'].last().reset_index()\n",
    "\n",
    "Mtg30 = Mtg30\n",
    "Mtg30['DATE'] = pd.to_datetime(Mtg30['DATE'])\n",
    "Mtg30 = Mtg30.groupby([Mtg30['DATE'].dt.strftime('%Y-%m')])['Mtg30'].last().reset_index()\n",
    "\n",
    "Mtg15 = Mtg15\n",
    "Mtg15['DATE'] = pd.to_datetime(Mtg15['DATE'])\n",
    "Mtg15 = Mtg15.groupby([Mtg15['DATE'].dt.strftime('%Y-%m')])['Mtg15'].last().reset_index()\n",
    "\n",
    "MtgFHA = MtgFHA\n",
    "MtgFHA['DATE'] = pd.to_datetime(MtgFHA['DATE'])\n",
    "MtgFHA = MtgFHA.groupby([MtgFHA['DATE'].dt.strftime('%Y-%m')])['FHA 30'].last().reset_index()\n",
    "\n",
    "\n",
    "Jumbo = Jumbo\n",
    "Jumbo['DATE'] = pd.to_datetime(Jumbo['DATE'])\n",
    "Jumbo = Jumbo.groupby([Jumbo['DATE'].dt.strftime('%Y-%m')])['Jumbo30'].last().reset_index()\n"
   ]
  },
  {
   "cell_type": "code",
   "execution_count": 85,
   "metadata": {},
   "outputs": [
    {
     "data": {
      "text/html": [
       "<div>\n",
       "<style scoped>\n",
       "    .dataframe tbody tr th:only-of-type {\n",
       "        vertical-align: middle;\n",
       "    }\n",
       "\n",
       "    .dataframe tbody tr th {\n",
       "        vertical-align: top;\n",
       "    }\n",
       "\n",
       "    .dataframe thead th {\n",
       "        text-align: right;\n",
       "    }\n",
       "</style>\n",
       "<table border=\"1\" class=\"dataframe\">\n",
       "  <thead>\n",
       "    <tr style=\"text-align: right;\">\n",
       "      <th></th>\n",
       "      <th>DATE</th>\n",
       "      <th>FED RATES</th>\n",
       "      <th>Mtg30</th>\n",
       "    </tr>\n",
       "  </thead>\n",
       "  <tbody>\n",
       "    <tr>\n",
       "      <th>12</th>\n",
       "      <td>2018-01-01</td>\n",
       "      <td>1.41</td>\n",
       "      <td>4.15</td>\n",
       "    </tr>\n",
       "    <tr>\n",
       "      <th>13</th>\n",
       "      <td>2018-02-01</td>\n",
       "      <td>1.42</td>\n",
       "      <td>4.40</td>\n",
       "    </tr>\n",
       "    <tr>\n",
       "      <th>14</th>\n",
       "      <td>2018-03-01</td>\n",
       "      <td>1.51</td>\n",
       "      <td>4.44</td>\n",
       "    </tr>\n",
       "    <tr>\n",
       "      <th>15</th>\n",
       "      <td>2018-04-01</td>\n",
       "      <td>1.69</td>\n",
       "      <td>4.58</td>\n",
       "    </tr>\n",
       "    <tr>\n",
       "      <th>16</th>\n",
       "      <td>2018-05-01</td>\n",
       "      <td>1.70</td>\n",
       "      <td>4.56</td>\n",
       "    </tr>\n",
       "  </tbody>\n",
       "</table>\n",
       "</div>"
      ],
      "text/plain": [
       "         DATE  FED RATES  Mtg30\n",
       "12 2018-01-01       1.41   4.15\n",
       "13 2018-02-01       1.42   4.40\n",
       "14 2018-03-01       1.51   4.44\n",
       "15 2018-04-01       1.69   4.58\n",
       "16 2018-05-01       1.70   4.56"
      ]
     },
     "execution_count": 85,
     "metadata": {},
     "output_type": "execute_result"
    }
   ],
   "source": [
    "\n",
    "#merge the fed rates and 30 year mtg rate\n",
    "rates_df = pd.merge(Fed, Mtg30, on=[\"DATE\"])\n",
    "\n",
    "# Format to go to two decimal places, include a dollar sign, and use comma notation\n",
    "#rates_df[\"FEDFUNDS\"] = rates_df[\"FEDFUNDS\"].astype(float).map(\"{:,.2f}\".format)\n",
    "#rates_df[\"30YRS\"] = rates_df[\"30YRS\"].astype(float).map(\"{:,.2f}\".format)\n",
    "\n",
    "rates_df[\"FED RATES\"] = rates_df[\"FED RATES\"].astype(float)\n",
    "rates_df[\"Mtg30\"] = rates_df[\"Mtg30\"].astype(float)\n",
    "# rates_df[\"Mtg15\"] = rates_df[\"Mtg15\"].astype(float)\n",
    "# rates_df[\"FHA 30\"] = rates_df[\"FHA 30'\"].astype(float)\n",
    "# rates_df[\"Jumbo30\"] = rates_df[\"Jumbo30\"].astype(float)\n",
    "rates_df['DATE'] = pd.to_datetime(rates_df['DATE'])\n",
    "\n",
    "rates_df = rates_df.loc[rates_df['DATE'] >= '1/1/2018']\n",
    "\n",
    "rates_df.head()"
   ]
  },
  {
   "cell_type": "code",
   "execution_count": 89,
   "metadata": {},
   "outputs": [
    {
     "data": {
      "image/png": "[encoded data removed]",
      "text/plain": [
       "<Figure size 720x360 with 1 Axes>"
      ]
     },
     "metadata": {
      "needs_background": "light"
     },
     "output_type": "display_data"
    }
   ],
   "source": [
    "\n",
    "x1 = rates_df['DATE']\n",
    "y1 = rates_df['FED RATES']\n",
    "y2 = rates_df['Mtg30']\n",
    "\n",
    "fig1, ax1 = plt.subplots(figsize=(10, 5))\n",
    "\n",
    "plt.plot(x1, y1, markersize=5,marker=\"s\",color=\"g\", label= \"Fedrate\")\n",
    "plt.plot(x1, y2, markersize=5,marker=\"o\",color=\"y\", label= \"30YRS\")\n",
    "plt.title('Trend line showing Fed rate and mortgage rate over years',fontsize =15)\n",
    "plt.xlabel('YEARS',fontsize =14)\n",
    "plt.ylabel('FEDRATE (%)',fontsize =14)\n",
    "plt.legend()\n",
    "plt.grid()\n",
    "plt.tight_layout()\n",
    "plt.show()"
   ]
  },
  {
   "cell_type": "code",
   "execution_count": null,
   "metadata": {},
   "outputs": [],
   "source": []
  },
  {
   "cell_type": "code",
   "execution_count": null,
   "metadata": {},
   "outputs": [],
   "source": []
  }
 ],
 "metadata": {
  "kernelspec": {
   "display_name": "Python 3.8.5 ('base')",
   "language": "python",
   "name": "python3"
  },
  "language_info": {
   "codemirror_mode": {
    "name": "ipython",
    "version": 3
   },
   "file_extension": ".py",
   "mimetype": "text/x-python",
   "name": "python",
   "nbconvert_exporter": "python",
   "pygments_lexer": "ipython3",
   "version": "3.8.5"
  },
  "orig_nbformat": 4,
  "vscode": {
   "interpreter": {
    "hash": "b3e23ab2c2bc50f907f9b22949e1c01fe51fab78d0ebb105dec217407c9b0200"
   }
  }
 },
 "nbformat": 4,
 "nbformat_minor": 2
}
