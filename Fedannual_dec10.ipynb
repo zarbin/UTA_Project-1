{
 "cells": [
  {
   "cell_type": "code",
   "execution_count": 32,
   "metadata": {},
   "outputs": [],
   "source": [
    "import os\n",
    "import csv\n",
    "import pandas as pd\n",
    "import numpy as np \n",
    "import matplotlib.pyplot as plt\n",
    "from datetime import datetime\n",
    "import scipy.stats as st\n",
    "import seaborn as sns"
   ]
  },
  {
   "cell_type": "code",
   "execution_count": 6,
   "metadata": {},
   "outputs": [],
   "source": [
    "annualfed_path = os.path.join(\"resources\", \"Fedfunds.csv\")\n",
    "\n",
    "with open(annualfed_path , newline=\"\") as csvfile:\n",
    "    csv_reader = csv.reader(csvfile, delimiter=\",\")"
   ]
  },
  {
   "cell_type": "code",
   "execution_count": 7,
   "metadata": {},
   "outputs": [],
   "source": [
    "#Load and read fedfunds csv\n",
    "data = pd.read_csv(\"resources/Fedfunds.csv\")\n",
    "data_fed = data\n",
    "data_fed['DATE'] = pd.to_datetime(data_fed['DATE'])\n",
    "data_fed = data_fed.groupby([data_fed['DATE'].dt.strftime('%Y-%m')])['FED RATES'].last().reset_index()\n"
   ]
  },
  {
   "cell_type": "code",
   "execution_count": 8,
   "metadata": {},
   "outputs": [
    {
     "data": {
      "text/html": [
       "<div>\n",
       "<style scoped>\n",
       "    .dataframe tbody tr th:only-of-type {\n",
       "        vertical-align: middle;\n",
       "    }\n",
       "\n",
       "    .dataframe tbody tr th {\n",
       "        vertical-align: top;\n",
       "    }\n",
       "\n",
       "    .dataframe thead th {\n",
       "        text-align: right;\n",
       "    }\n",
       "</style>\n",
       "<table border=\"1\" class=\"dataframe\">\n",
       "  <thead>\n",
       "    <tr style=\"text-align: right;\">\n",
       "      <th></th>\n",
       "      <th>DATE</th>\n",
       "      <th>FED RATES</th>\n",
       "    </tr>\n",
       "  </thead>\n",
       "  <tbody>\n",
       "    <tr>\n",
       "      <th>0</th>\n",
       "      <td>2017-01</td>\n",
       "      <td>0.65</td>\n",
       "    </tr>\n",
       "    <tr>\n",
       "      <th>1</th>\n",
       "      <td>2017-02</td>\n",
       "      <td>0.66</td>\n",
       "    </tr>\n",
       "    <tr>\n",
       "      <th>2</th>\n",
       "      <td>2017-03</td>\n",
       "      <td>0.79</td>\n",
       "    </tr>\n",
       "    <tr>\n",
       "      <th>3</th>\n",
       "      <td>2017-04</td>\n",
       "      <td>0.90</td>\n",
       "    </tr>\n",
       "    <tr>\n",
       "      <th>4</th>\n",
       "      <td>2017-05</td>\n",
       "      <td>0.91</td>\n",
       "    </tr>\n",
       "  </tbody>\n",
       "</table>\n",
       "</div>"
      ],
      "text/plain": [
       "      DATE  FED RATES\n",
       "0  2017-01       0.65\n",
       "1  2017-02       0.66\n",
       "2  2017-03       0.79\n",
       "3  2017-04       0.90\n",
       "4  2017-05       0.91"
      ]
     },
     "execution_count": 8,
     "metadata": {},
     "output_type": "execute_result"
    }
   ],
   "source": [
    "data_fed.head()"
   ]
  },
  {
   "cell_type": "code",
   "execution_count": 9,
   "metadata": {},
   "outputs": [
    {
     "data": {
      "text/html": [
       "<div>\n",
       "<style scoped>\n",
       "    .dataframe tbody tr th:only-of-type {\n",
       "        vertical-align: middle;\n",
       "    }\n",
       "\n",
       "    .dataframe tbody tr th {\n",
       "        vertical-align: top;\n",
       "    }\n",
       "\n",
       "    .dataframe thead th {\n",
       "        text-align: right;\n",
       "    }\n",
       "</style>\n",
       "<table border=\"1\" class=\"dataframe\">\n",
       "  <thead>\n",
       "    <tr style=\"text-align: right;\">\n",
       "      <th></th>\n",
       "      <th>DATE</th>\n",
       "      <th>Mtg30</th>\n",
       "    </tr>\n",
       "  </thead>\n",
       "  <tbody>\n",
       "    <tr>\n",
       "      <th>0</th>\n",
       "      <td>2017-01</td>\n",
       "      <td>4.20</td>\n",
       "    </tr>\n",
       "    <tr>\n",
       "      <th>1</th>\n",
       "      <td>2017-02</td>\n",
       "      <td>4.12</td>\n",
       "    </tr>\n",
       "    <tr>\n",
       "      <th>2</th>\n",
       "      <td>2017-03</td>\n",
       "      <td>4.09</td>\n",
       "    </tr>\n",
       "    <tr>\n",
       "      <th>3</th>\n",
       "      <td>2017-04</td>\n",
       "      <td>4.19</td>\n",
       "    </tr>\n",
       "    <tr>\n",
       "      <th>4</th>\n",
       "      <td>2017-05</td>\n",
       "      <td>4.19</td>\n",
       "    </tr>\n",
       "  </tbody>\n",
       "</table>\n",
       "</div>"
      ],
      "text/plain": [
       "      DATE  Mtg30\n",
       "0  2017-01   4.20\n",
       "1  2017-02   4.12\n",
       "2  2017-03   4.09\n",
       "3  2017-04   4.19\n",
       "4  2017-05   4.19"
      ]
     },
     "execution_count": 9,
     "metadata": {},
     "output_type": "execute_result"
    }
   ],
   "source": [
    "mtg30_path = os.path.join(\"resources\", \"Mtg30.csv\")\n",
    "\n",
    "with open(annualfed_path , newline=\"\") as csvfile:\n",
    "\n",
    "    csv_reader = csv.reader(csvfile, delimiter=\",\")\n",
    "    data = pd.read_csv(\"resources/Mtg30.csv\")\n",
    "data_mtg30 = data\n",
    "data_mtg30['DATE'] = pd.to_datetime(data_fed['DATE'])\n",
    "data_mtg30 = data_mtg30.groupby([data_mtg30 ['DATE'].dt.strftime('%Y-%m')])['Mtg30'].last().reset_index()\n",
    "data_mtg30.head()"
   ]
  },
  {
   "cell_type": "code",
   "execution_count": 10,
   "metadata": {},
   "outputs": [
    {
     "data": {
      "text/html": [
       "<div>\n",
       "<style scoped>\n",
       "    .dataframe tbody tr th:only-of-type {\n",
       "        vertical-align: middle;\n",
       "    }\n",
       "\n",
       "    .dataframe tbody tr th {\n",
       "        vertical-align: top;\n",
       "    }\n",
       "\n",
       "    .dataframe thead th {\n",
       "        text-align: right;\n",
       "    }\n",
       "</style>\n",
       "<table border=\"1\" class=\"dataframe\">\n",
       "  <thead>\n",
       "    <tr style=\"text-align: right;\">\n",
       "      <th></th>\n",
       "      <th>DATE</th>\n",
       "      <th>FED RATES</th>\n",
       "      <th>Mtg30</th>\n",
       "    </tr>\n",
       "  </thead>\n",
       "  <tbody>\n",
       "    <tr>\n",
       "      <th>0</th>\n",
       "      <td>2017-01-01</td>\n",
       "      <td>0.65</td>\n",
       "      <td>4.20</td>\n",
       "    </tr>\n",
       "    <tr>\n",
       "      <th>1</th>\n",
       "      <td>2017-02-01</td>\n",
       "      <td>0.66</td>\n",
       "      <td>4.12</td>\n",
       "    </tr>\n",
       "    <tr>\n",
       "      <th>2</th>\n",
       "      <td>2017-03-01</td>\n",
       "      <td>0.79</td>\n",
       "      <td>4.09</td>\n",
       "    </tr>\n",
       "    <tr>\n",
       "      <th>3</th>\n",
       "      <td>2017-04-01</td>\n",
       "      <td>0.90</td>\n",
       "      <td>4.19</td>\n",
       "    </tr>\n",
       "    <tr>\n",
       "      <th>4</th>\n",
       "      <td>2017-05-01</td>\n",
       "      <td>0.91</td>\n",
       "      <td>4.19</td>\n",
       "    </tr>\n",
       "  </tbody>\n",
       "</table>\n",
       "</div>"
      ],
      "text/plain": [
       "        DATE  FED RATES  Mtg30\n",
       "0 2017-01-01       0.65   4.20\n",
       "1 2017-02-01       0.66   4.12\n",
       "2 2017-03-01       0.79   4.09\n",
       "3 2017-04-01       0.90   4.19\n",
       "4 2017-05-01       0.91   4.19"
      ]
     },
     "execution_count": 10,
     "metadata": {},
     "output_type": "execute_result"
    }
   ],
   "source": [
    "#merge the fed rates and 30 year mtg rate\n",
    "rates_df = pd.merge(data_fed, data_mtg30, on=[\"DATE\"])\n",
    "\n",
    "\n",
    "rates_df[\"FED RATES\"] = rates_df[\"FED RATES\"].astype(float)\n",
    "rates_df[\"Mtg30\"] = rates_df[\"Mtg30\"].astype(float)\n",
    "rates_df['DATE'] = pd.to_datetime(rates_df['DATE'])\n",
    "\n",
    "\n",
    "\n",
    "rates_df. head()\n",
    "\n"
   ]
  },
  {
   "cell_type": "code",
   "execution_count": 11,
   "metadata": {},
   "outputs": [
    {
     "data": {
      "text/html": [
       "<div>\n",
       "<style scoped>\n",
       "    .dataframe tbody tr th:only-of-type {\n",
       "        vertical-align: middle;\n",
       "    }\n",
       "\n",
       "    .dataframe tbody tr th {\n",
       "        vertical-align: top;\n",
       "    }\n",
       "\n",
       "    .dataframe thead th {\n",
       "        text-align: right;\n",
       "    }\n",
       "</style>\n",
       "<table border=\"1\" class=\"dataframe\">\n",
       "  <thead>\n",
       "    <tr style=\"text-align: right;\">\n",
       "      <th></th>\n",
       "      <th>DATE</th>\n",
       "      <th>Mtg15</th>\n",
       "    </tr>\n",
       "  </thead>\n",
       "  <tbody>\n",
       "    <tr>\n",
       "      <th>0</th>\n",
       "      <td>2017-01</td>\n",
       "      <td>3.40</td>\n",
       "    </tr>\n",
       "    <tr>\n",
       "      <th>1</th>\n",
       "      <td>2017-02</td>\n",
       "      <td>3.37</td>\n",
       "    </tr>\n",
       "    <tr>\n",
       "      <th>2</th>\n",
       "      <td>2017-03</td>\n",
       "      <td>3.39</td>\n",
       "    </tr>\n",
       "    <tr>\n",
       "      <th>3</th>\n",
       "      <td>2017-04</td>\n",
       "      <td>3.27</td>\n",
       "    </tr>\n",
       "    <tr>\n",
       "      <th>4</th>\n",
       "      <td>2017-05</td>\n",
       "      <td>3.19</td>\n",
       "    </tr>\n",
       "  </tbody>\n",
       "</table>\n",
       "</div>"
      ],
      "text/plain": [
       "      DATE  Mtg15\n",
       "0  2017-01   3.40\n",
       "1  2017-02   3.37\n",
       "2  2017-03   3.39\n",
       "3  2017-04   3.27\n",
       "4  2017-05   3.19"
      ]
     },
     "execution_count": 11,
     "metadata": {},
     "output_type": "execute_result"
    }
   ],
   "source": [
    "#Convert the Mtg15 file\n",
    "mtg15_path = os.path.join(\"resources\", \"Mtg15.csv\")\n",
    "\n",
    "with open(mtg15_path , newline=\"\") as csvfile:\n",
    "\n",
    "    csv_reader = csv.reader(csvfile, delimiter=\",\")\n",
    "    data = pd.read_csv(\"resources/Mtg15.csv\")\n",
    "data_mtg15 = data\n",
    "data_mtg15['DATE'] = pd.to_datetime(data_mtg15['DATE'])\n",
    "\n",
    "data_mtg15 = data_mtg15.groupby([data_mtg15 ['DATE'].dt.strftime('%Y-%m')])['Mtg15'].last().reset_index()\n",
    "\n",
    "\n",
    "data_mtg15.head()\n",
    "\n",
    "\n"
   ]
  },
  {
   "cell_type": "code",
   "execution_count": 12,
   "metadata": {},
   "outputs": [
    {
     "data": {
      "text/html": [
       "<div>\n",
       "<style scoped>\n",
       "    .dataframe tbody tr th:only-of-type {\n",
       "        vertical-align: middle;\n",
       "    }\n",
       "\n",
       "    .dataframe tbody tr th {\n",
       "        vertical-align: top;\n",
       "    }\n",
       "\n",
       "    .dataframe thead th {\n",
       "        text-align: right;\n",
       "    }\n",
       "</style>\n",
       "<table border=\"1\" class=\"dataframe\">\n",
       "  <thead>\n",
       "    <tr style=\"text-align: right;\">\n",
       "      <th></th>\n",
       "      <th>DATE</th>\n",
       "      <th>FED RATES</th>\n",
       "      <th>Mtg30</th>\n",
       "      <th>Mtg15</th>\n",
       "    </tr>\n",
       "  </thead>\n",
       "  <tbody>\n",
       "    <tr>\n",
       "      <th>0</th>\n",
       "      <td>2017-01</td>\n",
       "      <td>0.65</td>\n",
       "      <td>4.20</td>\n",
       "      <td>3.40</td>\n",
       "    </tr>\n",
       "    <tr>\n",
       "      <th>1</th>\n",
       "      <td>2017-02</td>\n",
       "      <td>0.66</td>\n",
       "      <td>4.12</td>\n",
       "      <td>3.37</td>\n",
       "    </tr>\n",
       "    <tr>\n",
       "      <th>2</th>\n",
       "      <td>2017-03</td>\n",
       "      <td>0.79</td>\n",
       "      <td>4.09</td>\n",
       "      <td>3.39</td>\n",
       "    </tr>\n",
       "    <tr>\n",
       "      <th>3</th>\n",
       "      <td>2017-04</td>\n",
       "      <td>0.90</td>\n",
       "      <td>4.19</td>\n",
       "      <td>3.27</td>\n",
       "    </tr>\n",
       "    <tr>\n",
       "      <th>4</th>\n",
       "      <td>2017-05</td>\n",
       "      <td>0.91</td>\n",
       "      <td>4.19</td>\n",
       "      <td>3.19</td>\n",
       "    </tr>\n",
       "  </tbody>\n",
       "</table>\n",
       "</div>"
      ],
      "text/plain": [
       "      DATE  FED RATES  Mtg30  Mtg15\n",
       "0  2017-01       0.65   4.20   3.40\n",
       "1  2017-02       0.66   4.12   3.37\n",
       "2  2017-03       0.79   4.09   3.39\n",
       "3  2017-04       0.90   4.19   3.27\n",
       "4  2017-05       0.91   4.19   3.19"
      ]
     },
     "execution_count": 12,
     "metadata": {},
     "output_type": "execute_result"
    }
   ],
   "source": [
    "#merge the the file\n",
    "rates1_df = pd.merge(pd.merge(data_fed, data_mtg30, on='DATE'),data_mtg15, on= 'DATE')\n",
    "\n",
    "\n",
    "rates1_df.head()"
   ]
  },
  {
   "cell_type": "code",
   "execution_count": 13,
   "metadata": {},
   "outputs": [
    {
     "data": {
      "text/html": [
       "<div>\n",
       "<style scoped>\n",
       "    .dataframe tbody tr th:only-of-type {\n",
       "        vertical-align: middle;\n",
       "    }\n",
       "\n",
       "    .dataframe tbody tr th {\n",
       "        vertical-align: top;\n",
       "    }\n",
       "\n",
       "    .dataframe thead th {\n",
       "        text-align: right;\n",
       "    }\n",
       "</style>\n",
       "<table border=\"1\" class=\"dataframe\">\n",
       "  <thead>\n",
       "    <tr style=\"text-align: right;\">\n",
       "      <th></th>\n",
       "      <th>DATE</th>\n",
       "      <th>FHA 30</th>\n",
       "    </tr>\n",
       "  </thead>\n",
       "  <tbody>\n",
       "    <tr>\n",
       "      <th>0</th>\n",
       "      <td>2017-01</td>\n",
       "      <td>4.275</td>\n",
       "    </tr>\n",
       "    <tr>\n",
       "      <th>1</th>\n",
       "      <td>2017-02</td>\n",
       "      <td>4.215</td>\n",
       "    </tr>\n",
       "    <tr>\n",
       "      <th>2</th>\n",
       "      <td>2017-03</td>\n",
       "      <td>4.313</td>\n",
       "    </tr>\n",
       "    <tr>\n",
       "      <th>3</th>\n",
       "      <td>2017-04</td>\n",
       "      <td>4.231</td>\n",
       "    </tr>\n",
       "    <tr>\n",
       "      <th>4</th>\n",
       "      <td>2017-05</td>\n",
       "      <td>4.159</td>\n",
       "    </tr>\n",
       "  </tbody>\n",
       "</table>\n",
       "</div>"
      ],
      "text/plain": [
       "      DATE FHA 30\n",
       "0  2017-01  4.275\n",
       "1  2017-02  4.215\n",
       "2  2017-03  4.313\n",
       "3  2017-04  4.231\n",
       "4  2017-05  4.159"
      ]
     },
     "execution_count": 13,
     "metadata": {},
     "output_type": "execute_result"
    }
   ],
   "source": [
    "#Convert the MtgFHA file\n",
    "mtgfha_path = os.path.join(\"resources\", \"MtgFHA.csv\")\n",
    "\n",
    "with open(mtgfha_path , newline=\"\") as csvfile:\n",
    "\n",
    "    csv_reader = csv.reader(csvfile, delimiter=\",\")\n",
    "    data = pd.read_csv(\"resources/MtgFHA.csv\")\n",
    "data_mtgfha = data\n",
    "data_mtgfha['DATE'] = pd.to_datetime(data_mtgfha['DATE'])\n",
    "data_mtgfha = data_mtgfha.groupby([data_mtgfha ['DATE'].dt.strftime('%Y-%m')])['FHA 30'].last().reset_index()\n",
    "data_mtgfha.head()"
   ]
  },
  {
   "cell_type": "code",
   "execution_count": 14,
   "metadata": {},
   "outputs": [
    {
     "data": {
      "text/html": [
       "<div>\n",
       "<style scoped>\n",
       "    .dataframe tbody tr th:only-of-type {\n",
       "        vertical-align: middle;\n",
       "    }\n",
       "\n",
       "    .dataframe tbody tr th {\n",
       "        vertical-align: top;\n",
       "    }\n",
       "\n",
       "    .dataframe thead th {\n",
       "        text-align: right;\n",
       "    }\n",
       "</style>\n",
       "<table border=\"1\" class=\"dataframe\">\n",
       "  <thead>\n",
       "    <tr style=\"text-align: right;\">\n",
       "      <th></th>\n",
       "      <th>DATE</th>\n",
       "      <th>FED RATES</th>\n",
       "      <th>Mtg30</th>\n",
       "      <th>Mtg15</th>\n",
       "      <th>FHA 30</th>\n",
       "    </tr>\n",
       "  </thead>\n",
       "  <tbody>\n",
       "    <tr>\n",
       "      <th>0</th>\n",
       "      <td>2017-01</td>\n",
       "      <td>0.65</td>\n",
       "      <td>4.20</td>\n",
       "      <td>3.40</td>\n",
       "      <td>4.275</td>\n",
       "    </tr>\n",
       "    <tr>\n",
       "      <th>1</th>\n",
       "      <td>2017-02</td>\n",
       "      <td>0.66</td>\n",
       "      <td>4.12</td>\n",
       "      <td>3.37</td>\n",
       "      <td>4.215</td>\n",
       "    </tr>\n",
       "    <tr>\n",
       "      <th>2</th>\n",
       "      <td>2017-03</td>\n",
       "      <td>0.79</td>\n",
       "      <td>4.09</td>\n",
       "      <td>3.39</td>\n",
       "      <td>4.313</td>\n",
       "    </tr>\n",
       "    <tr>\n",
       "      <th>3</th>\n",
       "      <td>2017-04</td>\n",
       "      <td>0.90</td>\n",
       "      <td>4.19</td>\n",
       "      <td>3.27</td>\n",
       "      <td>4.231</td>\n",
       "    </tr>\n",
       "    <tr>\n",
       "      <th>4</th>\n",
       "      <td>2017-05</td>\n",
       "      <td>0.91</td>\n",
       "      <td>4.19</td>\n",
       "      <td>3.19</td>\n",
       "      <td>4.159</td>\n",
       "    </tr>\n",
       "  </tbody>\n",
       "</table>\n",
       "</div>"
      ],
      "text/plain": [
       "      DATE  FED RATES  Mtg30  Mtg15 FHA 30\n",
       "0  2017-01       0.65   4.20   3.40  4.275\n",
       "1  2017-02       0.66   4.12   3.37  4.215\n",
       "2  2017-03       0.79   4.09   3.39  4.313\n",
       "3  2017-04       0.90   4.19   3.27  4.231\n",
       "4  2017-05       0.91   4.19   3.19  4.159"
      ]
     },
     "execution_count": 14,
     "metadata": {},
     "output_type": "execute_result"
    }
   ],
   "source": [
    "#merge the the file\n",
    "rates2_df = pd.merge(pd.merge(pd.merge(data_fed, data_mtg30, on='DATE'),data_mtg15, on= 'DATE'),data_mtgfha, on= 'DATE')\n",
    "\n",
    "\n",
    "rates2_df.head()"
   ]
  },
  {
   "cell_type": "code",
   "execution_count": 15,
   "metadata": {},
   "outputs": [
    {
     "data": {
      "text/html": [
       "<div>\n",
       "<style scoped>\n",
       "    .dataframe tbody tr th:only-of-type {\n",
       "        vertical-align: middle;\n",
       "    }\n",
       "\n",
       "    .dataframe tbody tr th {\n",
       "        vertical-align: top;\n",
       "    }\n",
       "\n",
       "    .dataframe thead th {\n",
       "        text-align: right;\n",
       "    }\n",
       "</style>\n",
       "<table border=\"1\" class=\"dataframe\">\n",
       "  <thead>\n",
       "    <tr style=\"text-align: right;\">\n",
       "      <th></th>\n",
       "      <th>DATE</th>\n",
       "      <th>Jumbo30</th>\n",
       "    </tr>\n",
       "  </thead>\n",
       "  <tbody>\n",
       "    <tr>\n",
       "      <th>0</th>\n",
       "      <td>2017-12</td>\n",
       "      <td>4.18</td>\n",
       "    </tr>\n",
       "    <tr>\n",
       "      <th>1</th>\n",
       "      <td>2018-01</td>\n",
       "      <td>4.428</td>\n",
       "    </tr>\n",
       "    <tr>\n",
       "      <th>2</th>\n",
       "      <td>2018-02</td>\n",
       "      <td>4.593</td>\n",
       "    </tr>\n",
       "    <tr>\n",
       "      <th>3</th>\n",
       "      <td>2018-03</td>\n",
       "      <td>4.447</td>\n",
       "    </tr>\n",
       "    <tr>\n",
       "      <th>4</th>\n",
       "      <td>2018-04</td>\n",
       "      <td>4.648</td>\n",
       "    </tr>\n",
       "  </tbody>\n",
       "</table>\n",
       "</div>"
      ],
      "text/plain": [
       "      DATE Jumbo30\n",
       "0  2017-12    4.18\n",
       "1  2018-01   4.428\n",
       "2  2018-02   4.593\n",
       "3  2018-03   4.447\n",
       "4  2018-04   4.648"
      ]
     },
     "execution_count": 15,
     "metadata": {},
     "output_type": "execute_result"
    }
   ],
   "source": [
    "#Convert the MtgJumbo file\n",
    "mtgjumbo_path = os.path.join(\"resources\", \"MtgJumbo.csv\")\n",
    "\n",
    "with open(mtgjumbo_path , newline=\"\") as csvfile:\n",
    "\n",
    "    csv_reader = csv.reader(csvfile, delimiter=\",\")\n",
    "    data = pd.read_csv(\"resources/MtgJumbo.csv\")\n",
    "data_mtgjumbo = data\n",
    "data_mtgjumbo['DATE'] = pd.to_datetime(data_mtgjumbo['DATE'])\n",
    "data_mtgjumbo = data_mtgjumbo.groupby([data_mtgjumbo ['DATE'].dt.strftime('%Y-%m')])['Jumbo30'].last().reset_index()\n",
    "data_mtgjumbo.head()"
   ]
  },
  {
   "cell_type": "code",
   "execution_count": 16,
   "metadata": {},
   "outputs": [
    {
     "data": {
      "text/html": [
       "<div>\n",
       "<style scoped>\n",
       "    .dataframe tbody tr th:only-of-type {\n",
       "        vertical-align: middle;\n",
       "    }\n",
       "\n",
       "    .dataframe tbody tr th {\n",
       "        vertical-align: top;\n",
       "    }\n",
       "\n",
       "    .dataframe thead th {\n",
       "        text-align: right;\n",
       "    }\n",
       "</style>\n",
       "<table border=\"1\" class=\"dataframe\">\n",
       "  <thead>\n",
       "    <tr style=\"text-align: right;\">\n",
       "      <th></th>\n",
       "      <th>DATE</th>\n",
       "      <th>FED RATES</th>\n",
       "      <th>Mtg30</th>\n",
       "      <th>Mtg15</th>\n",
       "      <th>FHA 30</th>\n",
       "      <th>Jumbo30</th>\n",
       "    </tr>\n",
       "  </thead>\n",
       "  <tbody>\n",
       "    <tr>\n",
       "      <th>0</th>\n",
       "      <td>2017-12</td>\n",
       "      <td>1.30</td>\n",
       "      <td>4.23</td>\n",
       "      <td>3.44</td>\n",
       "      <td>4.288</td>\n",
       "      <td>4.18</td>\n",
       "    </tr>\n",
       "    <tr>\n",
       "      <th>1</th>\n",
       "      <td>2018-01</td>\n",
       "      <td>1.41</td>\n",
       "      <td>4.14</td>\n",
       "      <td>3.62</td>\n",
       "      <td>4.556</td>\n",
       "      <td>4.428</td>\n",
       "    </tr>\n",
       "    <tr>\n",
       "      <th>2</th>\n",
       "      <td>2018-02</td>\n",
       "      <td>1.42</td>\n",
       "      <td>4.10</td>\n",
       "      <td>3.85</td>\n",
       "      <td>4.837</td>\n",
       "      <td>4.593</td>\n",
       "    </tr>\n",
       "    <tr>\n",
       "      <th>3</th>\n",
       "      <td>2018-03</td>\n",
       "      <td>1.51</td>\n",
       "      <td>4.08</td>\n",
       "      <td>3.90</td>\n",
       "      <td>4.788</td>\n",
       "      <td>4.447</td>\n",
       "    </tr>\n",
       "    <tr>\n",
       "      <th>4</th>\n",
       "      <td>2018-04</td>\n",
       "      <td>1.69</td>\n",
       "      <td>3.97</td>\n",
       "      <td>4.02</td>\n",
       "      <td>4.959</td>\n",
       "      <td>4.648</td>\n",
       "    </tr>\n",
       "  </tbody>\n",
       "</table>\n",
       "</div>"
      ],
      "text/plain": [
       "      DATE  FED RATES  Mtg30  Mtg15 FHA 30 Jumbo30\n",
       "0  2017-12       1.30   4.23   3.44  4.288    4.18\n",
       "1  2018-01       1.41   4.14   3.62  4.556   4.428\n",
       "2  2018-02       1.42   4.10   3.85  4.837   4.593\n",
       "3  2018-03       1.51   4.08   3.90  4.788   4.447\n",
       "4  2018-04       1.69   3.97   4.02  4.959   4.648"
      ]
     },
     "execution_count": 16,
     "metadata": {},
     "output_type": "execute_result"
    }
   ],
   "source": [
    "#merge the the file\n",
    "rates3_df = pd.merge(pd.merge(pd.merge(pd.merge(data_fed, data_mtg30, on='DATE'),data_mtg15, on= 'DATE'),data_mtgfha, on= 'DATE'),data_mtgjumbo, on= 'DATE')\n",
    "\n",
    "rates3_df = rates3_df.loc[rates3_df['DATE'] >= '1/1/2018']\n",
    "\n",
    "rates3_df.head()"
   ]
  },
  {
   "cell_type": "code",
   "execution_count": 17,
   "metadata": {},
   "outputs": [],
   "source": [
    "# rates4_df = rates3_df.dropna()\n",
    "# rates4_df"
   ]
  },
  {
   "cell_type": "code",
   "execution_count": 18,
   "metadata": {},
   "outputs": [],
   "source": [
    "#write data to csv\n",
    "# rates3_df.to_csv(\"mtgrates.csv\")"
   ]
  },
  {
   "cell_type": "code",
   "execution_count": 19,
   "metadata": {},
   "outputs": [
    {
     "data": {
      "image/png": "[encoded data removed]",
      "text/plain": [
       "<Figure size 864x360 with 1 Axes>"
      ]
     },
     "metadata": {
      "needs_background": "light"
     },
     "output_type": "display_data"
    }
   ],
   "source": [
    "\n",
    "\n",
    "x1 = rates3_df['DATE']\n",
    "y1 = rates3_df['FED RATES']\n",
    "y2 = rates3_df['Mtg15']\n",
    "y3= rates3_df['Mtg30']\n",
    "\n",
    "\n",
    "fig1, ax1 = plt.subplots(figsize=(12,5))\n",
    "\n",
    "plt.plot(x1, y1, markersize=5,marker=\"s\",color=\"b\", label= \"Fedrate\")\n",
    "plt.plot(x1, y2, markersize=5,marker=\"o\",color=\"y\", label= \"15YRS\")\n",
    "plt.plot(x1, y3, markersize=5,marker=\"<\",color=\"g\", label= \"30YRS\")\n",
    "\n",
    "plt.title('Trend line - Fed rate vs 30 yr mtg rate and 15 yr mtg rate',fontsize =15)\n",
    "plt.xlabel('YEARS',fontsize =14)\n",
    "plt.ylabel('RATES (%)',fontsize =14)\n",
    "plt.xticks(rotation = 65)\n",
    "plt.legend()\n",
    "plt.grid()\n",
    "\n",
    "plt.tight_layout()\n",
    "plt.savefig('resources/Fedmtg.jpg')\n",
    "plt.show()\n",
    "\n"
   ]
  },
  {
   "cell_type": "code",
   "execution_count": 20,
   "metadata": {},
   "outputs": [],
   "source": [
    "from scipy.stats import linregress"
   ]
  },
  {
   "cell_type": "code",
   "execution_count": 21,
   "metadata": {},
   "outputs": [
    {
     "name": "stdout",
     "output_type": "stream",
     "text": [
      "The r-value is: 0.7650491063754941\n"
     ]
    },
    {
     "data": {
      "image/png": "[encoded data removed]",
      "text/plain": [
       "<Figure size 432x288 with 1 Axes>"
      ]
     },
     "metadata": {
      "needs_background": "light"
     },
     "output_type": "display_data"
    }
   ],
   "source": [
    "\n",
    "x = rates3_df['FED RATES']\n",
    "y = rates3_df['Mtg15']\n",
    "\n",
    "(slope, intercept, rvalue, pvalue, stderr) = linregress(x, y)\n",
    "regress_values = x * slope + intercept\n",
    "line_eq = \"y = \" + str(round(slope,2)) + \"x + \" + str(round(intercept,2))\n",
    "plt.scatter(x, y)\n",
    "plt.plot(x,regress_values,\"r-\")\n",
    "#plt.annotate(line_eq, (50,60), fontsize=15,color=\"red\")\n",
    "plt.xlabel('FED RATES')\n",
    "plt.ylabel('15 Year mortgage rate')\n",
    "plt.title('Fed rates and impact on 15 Yr Mtg rates')\n",
    "print(f\"The r-value is: {rvalue}\")\n",
    "plt.grid()\n",
    "plt.savefig('resources/15yrline.jpg')\n",
    "plt.show()"
   ]
  },
  {
   "cell_type": "code",
   "execution_count": 22,
   "metadata": {},
   "outputs": [
    {
     "name": "stdout",
     "output_type": "stream",
     "text": [
      "The r-value is: 0.03243626322455816\n"
     ]
    },
    {
     "data": {
      "image/png": "[encoded data removed]",
      "text/plain": [
       "<Figure size 432x288 with 1 Axes>"
      ]
     },
     "metadata": {
      "needs_background": "light"
     },
     "output_type": "display_data"
    }
   ],
   "source": [
    "x = rates3_df['FED RATES']\n",
    "y = rates3_df['Mtg30']\n",
    "\n",
    "(slope, intercept, rvalue, pvalue, stderr) = linregress(x, y)\n",
    "regress_values = x * slope + intercept\n",
    "line_eq = \"y = \" + str(round(slope,2)) + \"x + \" + str(round(intercept,2))\n",
    "plt.scatter(x, y)\n",
    "plt.plot(x,regress_values,\"g-\")\n",
    "plt.xlabel('FED RATES')\n",
    "plt.ylabel('30 Year mortgage rate')\n",
    "plt.title('Fed rates and impact on 30 Yr Mtg rates')\n",
    "print(f\"The r-value is: {rvalue}\")\n",
    "plt.grid()\n",
    "plt.savefig('resources/30yr.jpg')\n",
    "plt.show()\n",
    "\n",
    "\n"
   ]
  },
  {
   "cell_type": "code",
   "execution_count": 23,
   "metadata": {},
   "outputs": [],
   "source": [
    "prices_csv = (\"resources/redfin_texas_counties.csv\")\n",
    "\n",
    "# Read with Pandas\n",
    "prices_df= pd.read_csv(prices_csv)\n",
    "#narrow down dataframe to include only relevant columns\n",
    "clean_df = prices_df[['period_begin', 'period_end', 'region', 'property_type', 'median_sale_price', 'median_sale_price_yoy', 'sold_above_list','median_dom']]\n",
    "\n",
    "# ALL RESIDENTIAL Filter\n",
    "clean_df = clean_df.loc[(clean_df['property_type'] == 'All Residential')]\n",
    "\n",
    "#Creating a year column.  \n",
    "clean_df['year'] = pd.DatetimeIndex(clean_df['period_end']).year\n",
    "\n",
    "# Let's make sure 'date' is actually a date in pandas\n",
    "clean_df[\"date\"] = pd.to_datetime(clean_df[\"period_end\"])\n",
    "clean_df = clean_df.rename(columns={'date': 'DATE'})\n",
    "\n",
    "#Filter on #2018-2022\n",
    "years = [2018, 2019, 2020, 2021, 2022]\n",
    "clean_df = clean_df.loc[clean_df['year'].isin(years)]\n",
    "\n",
    "clean_df = clean_df.sort_values('period_end')\n"
   ]
  },
  {
   "cell_type": "code",
   "execution_count": 24,
   "metadata": {},
   "outputs": [
    {
     "data": {
      "text/html": [
       "<div>\n",
       "<style scoped>\n",
       "    .dataframe tbody tr th:only-of-type {\n",
       "        vertical-align: middle;\n",
       "    }\n",
       "\n",
       "    .dataframe tbody tr th {\n",
       "        vertical-align: top;\n",
       "    }\n",
       "\n",
       "    .dataframe thead th {\n",
       "        text-align: right;\n",
       "    }\n",
       "</style>\n",
       "<table border=\"1\" class=\"dataframe\">\n",
       "  <thead>\n",
       "    <tr style=\"text-align: right;\">\n",
       "      <th></th>\n",
       "      <th>DATE</th>\n",
       "      <th>median_sale_price_yoy</th>\n",
       "    </tr>\n",
       "  </thead>\n",
       "  <tbody>\n",
       "    <tr>\n",
       "      <th>0</th>\n",
       "      <td>2018-01</td>\n",
       "      <td>0.140621</td>\n",
       "    </tr>\n",
       "    <tr>\n",
       "      <th>1</th>\n",
       "      <td>2018-02</td>\n",
       "      <td>0.122411</td>\n",
       "    </tr>\n",
       "    <tr>\n",
       "      <th>2</th>\n",
       "      <td>2018-03</td>\n",
       "      <td>-0.003787</td>\n",
       "    </tr>\n",
       "    <tr>\n",
       "      <th>3</th>\n",
       "      <td>2018-04</td>\n",
       "      <td>0.041945</td>\n",
       "    </tr>\n",
       "    <tr>\n",
       "      <th>4</th>\n",
       "      <td>2018-05</td>\n",
       "      <td>0.037323</td>\n",
       "    </tr>\n",
       "  </tbody>\n",
       "</table>\n",
       "</div>"
      ],
      "text/plain": [
       "      DATE  median_sale_price_yoy\n",
       "0  2018-01               0.140621\n",
       "1  2018-02               0.122411\n",
       "2  2018-03              -0.003787\n",
       "3  2018-04               0.041945\n",
       "4  2018-05               0.037323"
      ]
     },
     "execution_count": 24,
     "metadata": {},
     "output_type": "execute_result"
    }
   ],
   "source": [
    "sale_price = clean_df.groupby(['DATE'])['median_sale_price_yoy'].mean()\n",
    "sale_price_df = pd.DataFrame(sale_price)\n",
    "sale_price_df.reset_index(inplace=True)\n",
    "\n",
    "sale_price_df['DATE'] = pd.to_datetime(sale_price_df['DATE'])\n",
    "sale_price_df =sale_price_df.groupby([sale_price_df['DATE'].dt.strftime('%Y-%m')])['median_sale_price_yoy'].last().reset_index()\n",
    "sale_price_df.head()\n"
   ]
  },
  {
   "cell_type": "code",
   "execution_count": 25,
   "metadata": {},
   "outputs": [
    {
     "data": {
      "text/html": [
       "<div>\n",
       "<style scoped>\n",
       "    .dataframe tbody tr th:only-of-type {\n",
       "        vertical-align: middle;\n",
       "    }\n",
       "\n",
       "    .dataframe tbody tr th {\n",
       "        vertical-align: top;\n",
       "    }\n",
       "\n",
       "    .dataframe thead th {\n",
       "        text-align: right;\n",
       "    }\n",
       "</style>\n",
       "<table border=\"1\" class=\"dataframe\">\n",
       "  <thead>\n",
       "    <tr style=\"text-align: right;\">\n",
       "      <th></th>\n",
       "      <th>DATE</th>\n",
       "      <th>median_sale_price_yoy</th>\n",
       "      <th>FED RATES</th>\n",
       "      <th>Mtg30</th>\n",
       "      <th>Mtg15</th>\n",
       "      <th>FHA 30</th>\n",
       "      <th>Jumbo30</th>\n",
       "    </tr>\n",
       "  </thead>\n",
       "  <tbody>\n",
       "    <tr>\n",
       "      <th>0</th>\n",
       "      <td>2018-01</td>\n",
       "      <td>0.140621</td>\n",
       "      <td>1.41</td>\n",
       "      <td>4.14</td>\n",
       "      <td>3.62</td>\n",
       "      <td>4.556</td>\n",
       "      <td>4.428</td>\n",
       "    </tr>\n",
       "    <tr>\n",
       "      <th>1</th>\n",
       "      <td>2018-02</td>\n",
       "      <td>0.122411</td>\n",
       "      <td>1.42</td>\n",
       "      <td>4.10</td>\n",
       "      <td>3.85</td>\n",
       "      <td>4.837</td>\n",
       "      <td>4.593</td>\n",
       "    </tr>\n",
       "    <tr>\n",
       "      <th>2</th>\n",
       "      <td>2018-03</td>\n",
       "      <td>-0.003787</td>\n",
       "      <td>1.51</td>\n",
       "      <td>4.08</td>\n",
       "      <td>3.90</td>\n",
       "      <td>4.788</td>\n",
       "      <td>4.447</td>\n",
       "    </tr>\n",
       "    <tr>\n",
       "      <th>3</th>\n",
       "      <td>2018-04</td>\n",
       "      <td>0.041945</td>\n",
       "      <td>1.69</td>\n",
       "      <td>3.97</td>\n",
       "      <td>4.02</td>\n",
       "      <td>4.959</td>\n",
       "      <td>4.648</td>\n",
       "    </tr>\n",
       "    <tr>\n",
       "      <th>4</th>\n",
       "      <td>2018-05</td>\n",
       "      <td>0.037323</td>\n",
       "      <td>1.70</td>\n",
       "      <td>4.03</td>\n",
       "      <td>4.06</td>\n",
       "      <td>4.922</td>\n",
       "      <td>4.658</td>\n",
       "    </tr>\n",
       "  </tbody>\n",
       "</table>\n",
       "</div>"
      ],
      "text/plain": [
       "      DATE  median_sale_price_yoy  FED RATES  Mtg30  Mtg15 FHA 30 Jumbo30\n",
       "0  2018-01               0.140621       1.41   4.14   3.62  4.556   4.428\n",
       "1  2018-02               0.122411       1.42   4.10   3.85  4.837   4.593\n",
       "2  2018-03              -0.003787       1.51   4.08   3.90  4.788   4.447\n",
       "3  2018-04               0.041945       1.69   3.97   4.02  4.959   4.648\n",
       "4  2018-05               0.037323       1.70   4.03   4.06  4.922   4.658"
      ]
     },
     "execution_count": 25,
     "metadata": {},
     "output_type": "execute_result"
    }
   ],
   "source": [
    "mtgprice_1 = pd.merge(sale_price_df, rates3_df, on = 'DATE')\n",
    "\n",
    "mtgprice_1.head()\n"
   ]
  },
  {
   "cell_type": "code",
   "execution_count": 31,
   "metadata": {},
   "outputs": [
    {
     "data": {
      "image/png": "[encoded data removed]",
      "text/plain": [
       "<Figure size 864x360 with 1 Axes>"
      ]
     },
     "metadata": {
      "needs_background": "light"
     },
     "output_type": "display_data"
    }
   ],
   "source": [
    "x1 = mtgprice_1['DATE']\n",
    "y1 = mtgprice_1['FED RATES']\n",
    "y2 = mtgprice_1['median_sale_price_yoy']\n",
    "y3 = mtgprice_1[\"Mtg30\"]\n",
    "y4 = mtgprice_1[\"Mtg15\"]\n",
    "\n",
    "\n",
    "\n",
    "fig1, ax1 = plt.subplots(figsize=(12,5))\n",
    "\n",
    "plt.plot(x1, y1, markersize=5,marker=\"s\",color=\"b\", label= \"Fedrate\")\n",
    "plt.plot(x1, y2, markersize=5,marker=\"o\",color=\"c\", label= \"Median Sale Price YOY\")\n",
    "plt.plot(x1, y3, markersize=5,marker=\">\",color=\"g\", label= \"Mortgage 30 yr\")\n",
    "plt.plot(x1, y4, markersize=5,marker=\"<\",color=\"y\", label= \"Mortgage 15 yr\")\n",
    "\n",
    "\n",
    "plt.title('Trend line - Fed Rate vs Median Sale Price YOY',fontsize =15)\n",
    "plt.xlabel('YEARS',fontsize =14)\n",
    "plt.ylabel('RATES(%) VS MEDIAN SALE PRICE YOY(%)',fontsize =14)\n",
    "plt.xticks(rotation = 80)\n",
    "plt.legend()\n",
    "plt.grid()\n",
    "\n",
    "\n",
    "plt.tight_layout()\n",
    "plt.show()\n",
    "\n",
    "\n",
    "\n",
    "\n"
   ]
  },
  {
   "cell_type": "code",
   "execution_count": 27,
   "metadata": {},
   "outputs": [
    {
     "name": "stdout",
     "output_type": "stream",
     "text": [
      "The r-value is: -0.6539981356840395\n"
     ]
    },
    {
     "data": {
      "image/png": "[encoded data removed]",
      "text/plain": [
       "<Figure size 432x288 with 1 Axes>"
      ]
     },
     "metadata": {
      "needs_background": "light"
     },
     "output_type": "display_data"
    }
   ],
   "source": [
    "x= mtgprice_1['FED RATES']\n",
    "y= mtgprice_1['median_sale_price_yoy']\n",
    "\n",
    "(slope, intercept, rvalue, pvalue, stderr) = linregress(x, y)\n",
    "regress_values = x * slope + intercept\n",
    "line_eq = \"y = \" + str(round(slope,2)) + \"x + \" + str(round(intercept,2))\n",
    "plt.scatter(x, y)\n",
    "plt.plot(x,regress_values,\"y-\")\n",
    "\n",
    "plt.xlabel('Fed Rates')\n",
    "plt.ylabel('median sale price yoy')\n",
    "plt.title('Fed rates vs. median sale price')\n",
    "print(f\"The r-value is: {rvalue}\")\n",
    "plt.grid()\n",
    "plt.show()"
   ]
  },
  {
   "cell_type": "code",
   "execution_count": 37,
   "metadata": {},
   "outputs": [
    {
     "name": "stdout",
     "output_type": "stream",
     "text": [
      "The r-value is: -0.3793374509678486\n"
     ]
    },
    {
     "data": {
      "image/png": "[encoded data removed]",
      "text/plain": [
       "<Figure size 432x288 with 1 Axes>"
      ]
     },
     "metadata": {
      "needs_background": "light"
     },
     "output_type": "display_data"
    }
   ],
   "source": [
    "x= mtgprice_1['Mtg15']\n",
    "y= mtgprice_1['median_sale_price_yoy']\n",
    "\n",
    "(slope, intercept, rvalue, pvalue, stderr) = linregress(x, y)\n",
    "regress_values = x * slope + intercept\n",
    "line_eq = \"y = \" + str(round(slope,2)) + \"x + \" + str(round(intercept,2))\n",
    "plt.scatter(x, y)\n",
    "plt.plot(x,regress_values,\"y-\")\n",
    "\n",
    "plt.xlabel('Fed Rates')\n",
    "plt.ylabel('median sale price yoy')\n",
    "plt.title('Fed rates vs. median sale price')\n",
    "print(f\"The r-value is: {rvalue}\")\n",
    "plt.grid()\n",
    "plt.show()"
   ]
  },
  {
   "cell_type": "code",
   "execution_count": null,
   "metadata": {},
   "outputs": [],
   "source": []
  }
 ],
 "metadata": {
  "kernelspec": {
   "display_name": "base",
   "language": "python",
   "name": "python3"
  },
  "language_info": {
   "codemirror_mode": {
    "name": "ipython",
    "version": 3
   },
   "file_extension": ".py",
   "mimetype": "text/x-python",
   "name": "python",
   "nbconvert_exporter": "python",
   "pygments_lexer": "ipython3",
   "version": "3.9.12 (main, Apr  4 2022, 05:22:27) [MSC v.1916 64 bit (AMD64)]"
  },
  "orig_nbformat": 4,
  "vscode": {
   "interpreter": {
    "hash": "2e3f33852672ac4a073d79af74b37fc9961212be18150672fcb2b3607e50fc72"
   }
  }
 },
 "nbformat": 4,
 "nbformat_minor": 2
}
